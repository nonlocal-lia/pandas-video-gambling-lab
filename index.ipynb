{
 "cells": [
  {
   "cell_type": "markdown",
   "metadata": {},
   "source": [
    "# Video Gambling Data and Pandas 🧐\n",
    "<img src=\"https://media.tegna-media.com/assets/WQAD/images/01c4abef-ca79-4b9b-b3f7-2ad2e856b34b/01c4abef-ca79-4b9b-b3f7-2ad2e856b34b_750x422.jpg\" width=\"460\"/>"
   ]
  },
  {
   "cell_type": "markdown",
   "metadata": {},
   "source": [
    "### *Video gambling, in Illinois, was legalized in 2012.*\n",
    "\n",
    ">Since then, it has become a boon for local bars, restaurants, and communities with declining tax revenue, but comes with public health concerns of gambling addition.\n",
    "Because of this Video Gambling is a frequent issue voted on by municipal governments in Illinois. \n",
    "\n",
    ">Video Gambling is closely monitored by the [Illinois Gaming Board](https://www.igb.illinois.gov/) and has been the subject of much reporting by local news agencies.\n",
    "\n",
    "**Let's use our skills with Pandas to investigate this topic.**"
   ]
  },
  {
   "cell_type": "markdown",
   "metadata": {},
   "source": [
    "# Task 1\n",
    "\n",
    "In the cell below, import the pandas library using the standard alias pd."
   ]
  },
  {
   "cell_type": "code",
   "execution_count": 1,
   "metadata": {},
   "outputs": [],
   "source": [
    "# Your code here\n",
    "import pandas as pd"
   ]
  },
  {
   "cell_type": "code",
   "execution_count": 2,
   "metadata": {
    "ExecuteTime": {
     "end_time": "2021-05-26T19:42:51.938942Z",
     "start_time": "2021-05-26T19:42:50.908599Z"
    }
   },
   "outputs": [],
   "source": [
    "# Run this cell unchanged\n",
    "from IPython.display import display, Markdown\n",
    "\n",
    "def markdown(text):\n",
    "    display(Markdown(text))\n",
    "\n",
    "#used for tests\n",
    "#testing\n",
    "from test_scripts.test_class import Test\n",
    "\n",
    "testing = Test()"
   ]
  },
  {
   "cell_type": "markdown",
   "metadata": {},
   "source": [
    "# Task 2"
   ]
  },
  {
   "cell_type": "markdown",
   "metadata": {},
   "source": [
    "**Our data is located** within the ```data``` folder of this repo.\n",
    "\n",
    "It is titled ```2019-il-vgambling.csv```\n",
    "\n",
    "<u>In the cell below:</u> \n",
    "1. Set the ```path``` variable to the path ```./data/2019-il-vgambling.csv```. \n",
    "    - (reverse the slashes if you're on Windows)\n",
    "2. Run the cell to import our dataset."
   ]
  },
  {
   "cell_type": "code",
   "execution_count": 14,
   "metadata": {
    "ExecuteTime": {
     "end_time": "2021-05-26T18:11:03.281026Z",
     "start_time": "2021-05-26T18:11:03.273992Z"
    }
   },
   "outputs": [],
   "source": [
    "path = \"data/2019-il-vgambling.csv\"\n",
    "data = pd.read_csv(path)"
   ]
  },
  {
   "cell_type": "markdown",
   "metadata": {},
   "source": [
    "# Task 3"
   ]
  },
  {
   "cell_type": "markdown",
   "metadata": {},
   "source": [
    "**Ok,** let's print out the first 5 rows using the ```.head()``` method."
   ]
  },
  {
   "cell_type": "code",
   "execution_count": 15,
   "metadata": {},
   "outputs": [
    {
     "data": {
      "text/html": [
       "<div>\n",
       "<style scoped>\n",
       "    .dataframe tbody tr th:only-of-type {\n",
       "        vertical-align: middle;\n",
       "    }\n",
       "\n",
       "    .dataframe tbody tr th {\n",
       "        vertical-align: top;\n",
       "    }\n",
       "\n",
       "    .dataframe thead th {\n",
       "        text-align: right;\n",
       "    }\n",
       "</style>\n",
       "<table border=\"1\" class=\"dataframe\">\n",
       "  <thead>\n",
       "    <tr style=\"text-align: right;\">\n",
       "      <th></th>\n",
       "      <th>Municipality</th>\n",
       "      <th>Establishment Count</th>\n",
       "      <th>Terminal Count</th>\n",
       "      <th>Amount Played</th>\n",
       "      <th>Amount Won</th>\n",
       "      <th>Nti Tax</th>\n",
       "      <th>State Share</th>\n",
       "      <th>Municipality Share</th>\n",
       "    </tr>\n",
       "  </thead>\n",
       "  <tbody>\n",
       "    <tr>\n",
       "      <th>0</th>\n",
       "      <td>Oregon</td>\n",
       "      <td>13</td>\n",
       "      <td>58</td>\n",
       "      <td>30182428.57</td>\n",
       "      <td>27583763.32</td>\n",
       "      <td>818444.23</td>\n",
       "      <td>688505.69</td>\n",
       "      <td>129938.54</td>\n",
       "    </tr>\n",
       "    <tr>\n",
       "      <th>1</th>\n",
       "      <td>Oakwood Hills</td>\n",
       "      <td>1</td>\n",
       "      <td>4</td>\n",
       "      <td>216669.74</td>\n",
       "      <td>199790.23</td>\n",
       "      <td>5281.38</td>\n",
       "      <td>4433.69</td>\n",
       "      <td>847.69</td>\n",
       "    </tr>\n",
       "    <tr>\n",
       "      <th>2</th>\n",
       "      <td>Merrionette Park</td>\n",
       "      <td>4</td>\n",
       "      <td>17</td>\n",
       "      <td>26567816.26</td>\n",
       "      <td>24324921.75</td>\n",
       "      <td>706616.85</td>\n",
       "      <td>594470.85</td>\n",
       "      <td>112146.00</td>\n",
       "    </tr>\n",
       "    <tr>\n",
       "      <th>3</th>\n",
       "      <td>Ashkum</td>\n",
       "      <td>2</td>\n",
       "      <td>8</td>\n",
       "      <td>2289711.66</td>\n",
       "      <td>2113123.06</td>\n",
       "      <td>55674.55</td>\n",
       "      <td>46845.11</td>\n",
       "      <td>8829.44</td>\n",
       "    </tr>\n",
       "    <tr>\n",
       "      <th>4</th>\n",
       "      <td>Grandview</td>\n",
       "      <td>5</td>\n",
       "      <td>25</td>\n",
       "      <td>13713301.51</td>\n",
       "      <td>12475853.83</td>\n",
       "      <td>390048.01</td>\n",
       "      <td>328175.50</td>\n",
       "      <td>61872.51</td>\n",
       "    </tr>\n",
       "  </tbody>\n",
       "</table>\n",
       "</div>"
      ],
      "text/plain": [
       "       Municipality  Establishment Count  Terminal Count  Amount Played  \\\n",
       "0            Oregon                   13              58    30182428.57   \n",
       "1     Oakwood Hills                    1               4      216669.74   \n",
       "2  Merrionette Park                    4              17    26567816.26   \n",
       "3            Ashkum                    2               8     2289711.66   \n",
       "4         Grandview                    5              25    13713301.51   \n",
       "\n",
       "    Amount Won    Nti Tax  State Share  Municipality Share  \n",
       "0  27583763.32  818444.23    688505.69           129938.54  \n",
       "1    199790.23    5281.38      4433.69              847.69  \n",
       "2  24324921.75  706616.85    594470.85           112146.00  \n",
       "3   2113123.06   55674.55     46845.11             8829.44  \n",
       "4  12475853.83  390048.01    328175.50            61872.51  "
      ]
     },
     "execution_count": 15,
     "metadata": {},
     "output_type": "execute_result"
    }
   ],
   "source": [
    "# Your code here\n",
    "data.head()"
   ]
  },
  {
   "cell_type": "markdown",
   "metadata": {},
   "source": [
    "<center><u><h3>Column Descriptions</h3><u></center>\n",
    "\n",
    "\n",
    "| Column Name         \t| Description                                                                                                                                                               \t|\n",
    "|:---------------------\t|:---------------------------------------------------------------------------------------------------------------------------------------------------------------------------\t|\n",
    "| Municipality        \t| The community's name                                                                                                                                                      \t|\n",
    "| Establishment Count \t| Number of businesses with video gambling licenses                                                                                                                         \t|\n",
    "| Terminal Count      \t| Number of video gambling machines in the community.                                                                                                                       \t|\n",
    "| Amount Played       \t| Total amount spent on video gambling by players.                                                                                                                          \t|\n",
    "| Amount Won          \t| Total amount won by players                                                                                                                                               \t|\n",
    "| Nti Tax             \t| The Net Terminal Income Tax Rate <br>is 30% of the Net Terminal Income. <br>The funds are divided between<br>the State of Illinois and local <br>governmental organizations. \t|\n",
    "| State Share         \t| Total revenue received by the State Government                                                                                                                            \t|\n",
    "| Municipality Share  \t| Total revenue received by the Municipality                                                                                                                                \t|"
   ]
  },
  {
   "cell_type": "markdown",
   "metadata": {},
   "source": [
    "# Task 4"
   ]
  },
  {
   "cell_type": "markdown",
   "metadata": {},
   "source": [
    "**When examining data at the municipal level,** it is common to <i><u>scale</u></i> our data according to the municipality's population. \n",
    ">This is often referred to as scaling our data *per capita*. \n",
    "\n",
    "To do this let's import some population data for Illinois Municipalities.\n",
    "\n",
    "In the cell below: \n",
    "1. Set the ```path``` variable to the path for the ```population.csv``` file within the ```data``` folder.\n",
    "2. Run the cell to import our population data."
   ]
  },
  {
   "cell_type": "code",
   "execution_count": 16,
   "metadata": {
    "ExecuteTime": {
     "end_time": "2021-05-26T18:11:39.235517Z",
     "start_time": "2021-05-26T18:11:39.230064Z"
    }
   },
   "outputs": [],
   "source": [
    "path = \"data/population.csv\"\n",
    "pop = pd.read_csv(path)"
   ]
  },
  {
   "cell_type": "markdown",
   "metadata": {},
   "source": [
    "# Task 5"
   ]
  },
  {
   "cell_type": "markdown",
   "metadata": {},
   "source": [
    "**Cool Cool**, let's print out the first 5 rows using the ```.head()``` method."
   ]
  },
  {
   "cell_type": "code",
   "execution_count": 17,
   "metadata": {},
   "outputs": [
    {
     "data": {
      "text/html": [
       "<div>\n",
       "<style scoped>\n",
       "    .dataframe tbody tr th:only-of-type {\n",
       "        vertical-align: middle;\n",
       "    }\n",
       "\n",
       "    .dataframe tbody tr th {\n",
       "        vertical-align: top;\n",
       "    }\n",
       "\n",
       "    .dataframe thead th {\n",
       "        text-align: right;\n",
       "    }\n",
       "</style>\n",
       "<table border=\"1\" class=\"dataframe\">\n",
       "  <thead>\n",
       "    <tr style=\"text-align: right;\">\n",
       "      <th></th>\n",
       "      <th>Unnamed: 0</th>\n",
       "      <th>Municipality</th>\n",
       "      <th>Population</th>\n",
       "    </tr>\n",
       "  </thead>\n",
       "  <tbody>\n",
       "    <tr>\n",
       "      <th>0</th>\n",
       "      <td>0</td>\n",
       "      <td>Champaign</td>\n",
       "      <td>86,791</td>\n",
       "    </tr>\n",
       "    <tr>\n",
       "      <th>1</th>\n",
       "      <td>1</td>\n",
       "      <td>Carbondale</td>\n",
       "      <td>25,846</td>\n",
       "    </tr>\n",
       "    <tr>\n",
       "      <th>2</th>\n",
       "      <td>2</td>\n",
       "      <td>Prairie Grove</td>\n",
       "      <td>1,826</td>\n",
       "    </tr>\n",
       "    <tr>\n",
       "      <th>3</th>\n",
       "      <td>3</td>\n",
       "      <td>Macomb</td>\n",
       "      <td>18,118</td>\n",
       "    </tr>\n",
       "    <tr>\n",
       "      <th>4</th>\n",
       "      <td>4</td>\n",
       "      <td>Brimfield</td>\n",
       "      <td>965</td>\n",
       "    </tr>\n",
       "  </tbody>\n",
       "</table>\n",
       "</div>"
      ],
      "text/plain": [
       "   Unnamed: 0   Municipality Population\n",
       "0           0      Champaign     86,791\n",
       "1           1     Carbondale     25,846\n",
       "2           2  Prairie Grove      1,826\n",
       "3           3         Macomb     18,118\n",
       "4           4      Brimfield        965"
      ]
     },
     "execution_count": 17,
     "metadata": {},
     "output_type": "execute_result"
    }
   ],
   "source": [
    "# Your Code here\n",
    "pop.head()"
   ]
  },
  {
   "cell_type": "markdown",
   "metadata": {},
   "source": [
    "# Task 6 (We did this one for you 😄)"
   ]
  },
  {
   "cell_type": "markdown",
   "metadata": {},
   "source": [
    "Let's remove the ```Unnamed: 0``` column."
   ]
  },
  {
   "cell_type": "code",
   "execution_count": 18,
   "metadata": {
    "ExecuteTime": {
     "end_time": "2020-05-17T01:54:55.264897Z",
     "start_time": "2020-05-17T01:54:55.260935Z"
    }
   },
   "outputs": [],
   "source": [
    "pop.drop('Unnamed: 0', axis = 1, inplace = True)"
   ]
  },
  {
   "cell_type": "markdown",
   "metadata": {},
   "source": [
    "# Task 7"
   ]
  },
  {
   "cell_type": "markdown",
   "metadata": {},
   "source": [
    "We need to merge our two datasets. \n",
    "\n",
    "**When merging** datasets, it's important to check the length of our datasets before and after merging to make sure we are not losing too much data.\n",
    "\n",
    "<u>In the cell below:</u>\n",
    "1. Set the variable ```length_before_merge``` to the length of our ```data``` dataframe using python's built in ```len``` function"
   ]
  },
  {
   "cell_type": "code",
   "execution_count": 19,
   "metadata": {
    "ExecuteTime": {
     "end_time": "2021-05-26T18:12:44.857677Z",
     "start_time": "2021-05-26T18:12:44.846390Z"
    }
   },
   "outputs": [
    {
     "data": {
      "text/markdown": [
       "<u>Length before merge:</u> **835**"
      ],
      "text/plain": [
       "<IPython.core.display.Markdown object>"
      ]
     },
     "metadata": {},
     "output_type": "display_data"
    }
   ],
   "source": [
    "# Your code here\n",
    "length_before_merge = len(data)\n",
    "\n",
    "\n",
    "# Run Code below without change\n",
    "string = '''<u>Length before merge:</u> **{}**'''.format(length_before_merge)\n",
    "markdown(string)"
   ]
  },
  {
   "cell_type": "markdown",
   "metadata": {},
   "source": [
    "# Task 8"
   ]
  },
  {
   "cell_type": "markdown",
   "metadata": {},
   "source": [
    "*Merge Time*\n",
    "\n",
    "\n",
    "<u>In the cell below:</u>\n",
    "1. [Merge](https://pandas.pydata.org/pandas-docs/stable/reference/api/pandas.DataFrame.merge.html) the two dataframes on the ```Municipality``` column.\n",
    "    - Save the merged dataframe as the variable ```df```"
   ]
  },
  {
   "cell_type": "code",
   "execution_count": 20,
   "metadata": {
    "ExecuteTime": {
     "end_time": "2021-05-26T18:13:55.627271Z",
     "start_time": "2021-05-26T18:13:55.621052Z"
    }
   },
   "outputs": [
    {
     "data": {
      "text/html": [
       "<div>\n",
       "<style scoped>\n",
       "    .dataframe tbody tr th:only-of-type {\n",
       "        vertical-align: middle;\n",
       "    }\n",
       "\n",
       "    .dataframe tbody tr th {\n",
       "        vertical-align: top;\n",
       "    }\n",
       "\n",
       "    .dataframe thead th {\n",
       "        text-align: right;\n",
       "    }\n",
       "</style>\n",
       "<table border=\"1\" class=\"dataframe\">\n",
       "  <thead>\n",
       "    <tr style=\"text-align: right;\">\n",
       "      <th></th>\n",
       "      <th>Municipality</th>\n",
       "      <th>Establishment Count</th>\n",
       "      <th>Terminal Count</th>\n",
       "      <th>Amount Played</th>\n",
       "      <th>Amount Won</th>\n",
       "      <th>Nti Tax</th>\n",
       "      <th>State Share</th>\n",
       "      <th>Municipality Share</th>\n",
       "      <th>Population</th>\n",
       "    </tr>\n",
       "  </thead>\n",
       "  <tbody>\n",
       "    <tr>\n",
       "      <th>0</th>\n",
       "      <td>Oregon</td>\n",
       "      <td>13</td>\n",
       "      <td>58</td>\n",
       "      <td>30182428.57</td>\n",
       "      <td>27583763.32</td>\n",
       "      <td>818444.23</td>\n",
       "      <td>688505.69</td>\n",
       "      <td>129938.54</td>\n",
       "      <td>3,683</td>\n",
       "    </tr>\n",
       "    <tr>\n",
       "      <th>1</th>\n",
       "      <td>Oakwood Hills</td>\n",
       "      <td>1</td>\n",
       "      <td>4</td>\n",
       "      <td>216669.74</td>\n",
       "      <td>199790.23</td>\n",
       "      <td>5281.38</td>\n",
       "      <td>4433.69</td>\n",
       "      <td>847.69</td>\n",
       "      <td>2,245</td>\n",
       "    </tr>\n",
       "    <tr>\n",
       "      <th>2</th>\n",
       "      <td>Merrionette Park</td>\n",
       "      <td>4</td>\n",
       "      <td>17</td>\n",
       "      <td>26567816.26</td>\n",
       "      <td>24324921.75</td>\n",
       "      <td>706616.85</td>\n",
       "      <td>594470.85</td>\n",
       "      <td>112146.00</td>\n",
       "      <td>2,163</td>\n",
       "    </tr>\n",
       "    <tr>\n",
       "      <th>3</th>\n",
       "      <td>Ashkum</td>\n",
       "      <td>2</td>\n",
       "      <td>8</td>\n",
       "      <td>2289711.66</td>\n",
       "      <td>2113123.06</td>\n",
       "      <td>55674.55</td>\n",
       "      <td>46845.11</td>\n",
       "      <td>8829.44</td>\n",
       "      <td>800</td>\n",
       "    </tr>\n",
       "    <tr>\n",
       "      <th>4</th>\n",
       "      <td>Grandview</td>\n",
       "      <td>5</td>\n",
       "      <td>25</td>\n",
       "      <td>13713301.51</td>\n",
       "      <td>12475853.83</td>\n",
       "      <td>390048.01</td>\n",
       "      <td>328175.50</td>\n",
       "      <td>61872.51</td>\n",
       "      <td>1,453</td>\n",
       "    </tr>\n",
       "  </tbody>\n",
       "</table>\n",
       "</div>"
      ],
      "text/plain": [
       "       Municipality  Establishment Count  Terminal Count  Amount Played  \\\n",
       "0            Oregon                   13              58    30182428.57   \n",
       "1     Oakwood Hills                    1               4      216669.74   \n",
       "2  Merrionette Park                    4              17    26567816.26   \n",
       "3            Ashkum                    2               8     2289711.66   \n",
       "4         Grandview                    5              25    13713301.51   \n",
       "\n",
       "    Amount Won    Nti Tax  State Share  Municipality Share Population  \n",
       "0  27583763.32  818444.23    688505.69           129938.54      3,683  \n",
       "1    199790.23    5281.38      4433.69              847.69      2,245  \n",
       "2  24324921.75  706616.85    594470.85           112146.00      2,163  \n",
       "3   2113123.06   55674.55     46845.11             8829.44        800  \n",
       "4  12475853.83  390048.01    328175.50            61872.51      1,453  "
      ]
     },
     "execution_count": 20,
     "metadata": {},
     "output_type": "execute_result"
    }
   ],
   "source": [
    "# Your code here\n",
    "df = data.merge(pop, how='left')\n",
    "df.head()"
   ]
  },
  {
   "cell_type": "markdown",
   "metadata": {},
   "source": [
    "# Task 9"
   ]
  },
  {
   "cell_type": "markdown",
   "metadata": {},
   "source": [
    "Now we need to check the length of our dataframe to make sure we didn't lose data! \n",
    "\n",
    "<u>In the cell below:</u>\n",
    "1. Set the ```length_after_merge``` variable to the length of ```df```."
   ]
  },
  {
   "cell_type": "code",
   "execution_count": 21,
   "metadata": {
    "ExecuteTime": {
     "end_time": "2021-05-26T18:15:48.165938Z",
     "start_time": "2021-05-26T18:15:48.162166Z"
    }
   },
   "outputs": [
    {
     "data": {
      "text/markdown": [
       "<u>Length after merge:</u> **835**"
      ],
      "text/plain": [
       "<IPython.core.display.Markdown object>"
      ]
     },
     "metadata": {},
     "output_type": "display_data"
    }
   ],
   "source": [
    "# Your code here\n",
    "length_after_merge = len(df)\n",
    "\n",
    "\n",
    "# Run Code below without change\n",
    "string = '''<u>Length after merge:</u> **{}**'''.format(length_after_merge,)\n",
    "markdown(string)"
   ]
  },
  {
   "cell_type": "markdown",
   "metadata": {},
   "source": [
    "# Task 10"
   ]
  },
  {
   "cell_type": "markdown",
   "metadata": {
    "ExecuteTime": {
     "end_time": "2020-05-17T00:17:37.266328Z",
     "start_time": "2020-05-17T00:17:37.255213Z"
    }
   },
   "source": [
    "In the cell below, set the Municipality column as the index using the ```.set_index()``` method."
   ]
  },
  {
   "cell_type": "code",
   "execution_count": 23,
   "metadata": {
    "ExecuteTime": {
     "end_time": "2021-05-26T18:16:14.971463Z",
     "start_time": "2021-05-26T18:16:14.968409Z"
    }
   },
   "outputs": [
    {
     "data": {
      "text/html": [
       "<div>\n",
       "<style scoped>\n",
       "    .dataframe tbody tr th:only-of-type {\n",
       "        vertical-align: middle;\n",
       "    }\n",
       "\n",
       "    .dataframe tbody tr th {\n",
       "        vertical-align: top;\n",
       "    }\n",
       "\n",
       "    .dataframe thead th {\n",
       "        text-align: right;\n",
       "    }\n",
       "</style>\n",
       "<table border=\"1\" class=\"dataframe\">\n",
       "  <thead>\n",
       "    <tr style=\"text-align: right;\">\n",
       "      <th></th>\n",
       "      <th>Establishment Count</th>\n",
       "      <th>Terminal Count</th>\n",
       "      <th>Amount Played</th>\n",
       "      <th>Amount Won</th>\n",
       "      <th>Nti Tax</th>\n",
       "      <th>State Share</th>\n",
       "      <th>Municipality Share</th>\n",
       "      <th>Population</th>\n",
       "    </tr>\n",
       "    <tr>\n",
       "      <th>Municipality</th>\n",
       "      <th></th>\n",
       "      <th></th>\n",
       "      <th></th>\n",
       "      <th></th>\n",
       "      <th></th>\n",
       "      <th></th>\n",
       "      <th></th>\n",
       "      <th></th>\n",
       "    </tr>\n",
       "  </thead>\n",
       "  <tbody>\n",
       "    <tr>\n",
       "      <th>Oregon</th>\n",
       "      <td>13</td>\n",
       "      <td>58</td>\n",
       "      <td>30182428.57</td>\n",
       "      <td>27583763.32</td>\n",
       "      <td>818444.23</td>\n",
       "      <td>688505.69</td>\n",
       "      <td>129938.54</td>\n",
       "      <td>3,683</td>\n",
       "    </tr>\n",
       "    <tr>\n",
       "      <th>Oakwood Hills</th>\n",
       "      <td>1</td>\n",
       "      <td>4</td>\n",
       "      <td>216669.74</td>\n",
       "      <td>199790.23</td>\n",
       "      <td>5281.38</td>\n",
       "      <td>4433.69</td>\n",
       "      <td>847.69</td>\n",
       "      <td>2,245</td>\n",
       "    </tr>\n",
       "    <tr>\n",
       "      <th>Merrionette Park</th>\n",
       "      <td>4</td>\n",
       "      <td>17</td>\n",
       "      <td>26567816.26</td>\n",
       "      <td>24324921.75</td>\n",
       "      <td>706616.85</td>\n",
       "      <td>594470.85</td>\n",
       "      <td>112146.00</td>\n",
       "      <td>2,163</td>\n",
       "    </tr>\n",
       "    <tr>\n",
       "      <th>Ashkum</th>\n",
       "      <td>2</td>\n",
       "      <td>8</td>\n",
       "      <td>2289711.66</td>\n",
       "      <td>2113123.06</td>\n",
       "      <td>55674.55</td>\n",
       "      <td>46845.11</td>\n",
       "      <td>8829.44</td>\n",
       "      <td>800</td>\n",
       "    </tr>\n",
       "    <tr>\n",
       "      <th>Grandview</th>\n",
       "      <td>5</td>\n",
       "      <td>25</td>\n",
       "      <td>13713301.51</td>\n",
       "      <td>12475853.83</td>\n",
       "      <td>390048.01</td>\n",
       "      <td>328175.50</td>\n",
       "      <td>61872.51</td>\n",
       "      <td>1,453</td>\n",
       "    </tr>\n",
       "  </tbody>\n",
       "</table>\n",
       "</div>"
      ],
      "text/plain": [
       "                  Establishment Count  Terminal Count  Amount Played  \\\n",
       "Municipality                                                           \n",
       "Oregon                             13              58    30182428.57   \n",
       "Oakwood Hills                       1               4      216669.74   \n",
       "Merrionette Park                    4              17    26567816.26   \n",
       "Ashkum                              2               8     2289711.66   \n",
       "Grandview                           5              25    13713301.51   \n",
       "\n",
       "                   Amount Won    Nti Tax  State Share  Municipality Share  \\\n",
       "Municipality                                                                \n",
       "Oregon            27583763.32  818444.23    688505.69           129938.54   \n",
       "Oakwood Hills       199790.23    5281.38      4433.69              847.69   \n",
       "Merrionette Park  24324921.75  706616.85    594470.85           112146.00   \n",
       "Ashkum             2113123.06   55674.55     46845.11             8829.44   \n",
       "Grandview         12475853.83  390048.01    328175.50            61872.51   \n",
       "\n",
       "                 Population  \n",
       "Municipality                 \n",
       "Oregon                3,683  \n",
       "Oakwood Hills         2,245  \n",
       "Merrionette Park      2,163  \n",
       "Ashkum                  800  \n",
       "Grandview             1,453  "
      ]
     },
     "execution_count": 23,
     "metadata": {},
     "output_type": "execute_result"
    }
   ],
   "source": [
    "# Your code here\n",
    "df.set_index('Municipality', inplace=True)\n",
    "df.head()"
   ]
  },
  {
   "cell_type": "markdown",
   "metadata": {},
   "source": [
    "# Task 11"
   ]
  },
  {
   "cell_type": "markdown",
   "metadata": {
    "ExecuteTime": {
     "end_time": "2020-05-17T00:19:20.848464Z",
     "start_time": "2020-05-17T00:19:20.811798Z"
    }
   },
   "source": [
    "Let's sort our index alphabetically using [this](https://pandas.pydata.org/pandas-docs/stable/reference/api/pandas.DataFrame.sort_index.html) method."
   ]
  },
  {
   "cell_type": "code",
   "execution_count": 24,
   "metadata": {
    "ExecuteTime": {
     "end_time": "2021-05-26T18:16:33.732834Z",
     "start_time": "2021-05-26T18:16:33.729143Z"
    }
   },
   "outputs": [
    {
     "data": {
      "text/html": [
       "<div>\n",
       "<style scoped>\n",
       "    .dataframe tbody tr th:only-of-type {\n",
       "        vertical-align: middle;\n",
       "    }\n",
       "\n",
       "    .dataframe tbody tr th {\n",
       "        vertical-align: top;\n",
       "    }\n",
       "\n",
       "    .dataframe thead th {\n",
       "        text-align: right;\n",
       "    }\n",
       "</style>\n",
       "<table border=\"1\" class=\"dataframe\">\n",
       "  <thead>\n",
       "    <tr style=\"text-align: right;\">\n",
       "      <th></th>\n",
       "      <th>Establishment Count</th>\n",
       "      <th>Terminal Count</th>\n",
       "      <th>Amount Played</th>\n",
       "      <th>Amount Won</th>\n",
       "      <th>Nti Tax</th>\n",
       "      <th>State Share</th>\n",
       "      <th>Municipality Share</th>\n",
       "      <th>Population</th>\n",
       "    </tr>\n",
       "    <tr>\n",
       "      <th>Municipality</th>\n",
       "      <th></th>\n",
       "      <th></th>\n",
       "      <th></th>\n",
       "      <th></th>\n",
       "      <th></th>\n",
       "      <th></th>\n",
       "      <th></th>\n",
       "      <th></th>\n",
       "    </tr>\n",
       "  </thead>\n",
       "  <tbody>\n",
       "    <tr>\n",
       "      <th>Abingdon</th>\n",
       "      <td>4</td>\n",
       "      <td>16</td>\n",
       "      <td>6492446.76</td>\n",
       "      <td>5968296.97</td>\n",
       "      <td>165040.02</td>\n",
       "      <td>138832.38</td>\n",
       "      <td>26207.64</td>\n",
       "      <td>3,452</td>\n",
       "    </tr>\n",
       "    <tr>\n",
       "      <th>Addieville</th>\n",
       "      <td>1</td>\n",
       "      <td>5</td>\n",
       "      <td>939917.34</td>\n",
       "      <td>860520.60</td>\n",
       "      <td>25020.09</td>\n",
       "      <td>21050.20</td>\n",
       "      <td>3969.89</td>\n",
       "      <td>344</td>\n",
       "    </tr>\n",
       "    <tr>\n",
       "      <th>Addison</th>\n",
       "      <td>23</td>\n",
       "      <td>111</td>\n",
       "      <td>88623932.26</td>\n",
       "      <td>80762581.15</td>\n",
       "      <td>2476573.63</td>\n",
       "      <td>2083474.53</td>\n",
       "      <td>393099.10</td>\n",
       "      <td>37,089</td>\n",
       "    </tr>\n",
       "    <tr>\n",
       "      <th>Albany</th>\n",
       "      <td>2</td>\n",
       "      <td>7</td>\n",
       "      <td>2030709.60</td>\n",
       "      <td>1855397.39</td>\n",
       "      <td>55473.53</td>\n",
       "      <td>46707.84</td>\n",
       "      <td>8765.69</td>\n",
       "      <td>979</td>\n",
       "    </tr>\n",
       "    <tr>\n",
       "      <th>Albers</th>\n",
       "      <td>1</td>\n",
       "      <td>4</td>\n",
       "      <td>1546280.29</td>\n",
       "      <td>1419896.70</td>\n",
       "      <td>39710.50</td>\n",
       "      <td>33391.29</td>\n",
       "      <td>6319.21</td>\n",
       "      <td>1,184</td>\n",
       "    </tr>\n",
       "  </tbody>\n",
       "</table>\n",
       "</div>"
      ],
      "text/plain": [
       "              Establishment Count  Terminal Count  Amount Played   Amount Won  \\\n",
       "Municipality                                                                    \n",
       "Abingdon                        4              16     6492446.76   5968296.97   \n",
       "Addieville                      1               5      939917.34    860520.60   \n",
       "Addison                        23             111    88623932.26  80762581.15   \n",
       "Albany                          2               7     2030709.60   1855397.39   \n",
       "Albers                          1               4     1546280.29   1419896.70   \n",
       "\n",
       "                 Nti Tax  State Share  Municipality Share Population  \n",
       "Municipality                                                          \n",
       "Abingdon       165040.02    138832.38            26207.64      3,452  \n",
       "Addieville      25020.09     21050.20             3969.89        344  \n",
       "Addison       2476573.63   2083474.53           393099.10     37,089  \n",
       "Albany          55473.53     46707.84             8765.69        979  \n",
       "Albers          39710.50     33391.29             6319.21      1,184  "
      ]
     },
     "execution_count": 24,
     "metadata": {},
     "output_type": "execute_result"
    }
   ],
   "source": [
    "# Your code here\n",
    "df.sort_index(inplace=True)\n",
    "df.head()"
   ]
  },
  {
   "cell_type": "markdown",
   "metadata": {},
   "source": [
    "# Task 12"
   ]
  },
  {
   "cell_type": "markdown",
   "metadata": {
    "ExecuteTime": {
     "end_time": "2020-05-17T00:21:15.301914Z",
     "start_time": "2020-05-17T00:21:15.268592Z"
    }
   },
   "source": [
    "To make things easier on ourselves, let's reformat our column names.\n",
    "\n",
    "<u>In the cell below:</u>\n",
    "1. Replace spaces with underscores for each column name\n",
    "2. Lower each column name\n",
    ">Bonus points if you do this via list comphrension 😃"
   ]
  },
  {
   "cell_type": "code",
   "execution_count": 26,
   "metadata": {
    "ExecuteTime": {
     "end_time": "2021-05-26T18:17:07.635714Z",
     "start_time": "2021-05-26T18:17:07.632877Z"
    }
   },
   "outputs": [
    {
     "data": {
      "text/plain": [
       "Index(['establishment_count', 'terminal_count', 'amount_played', 'amount_won',\n",
       "       'nti_tax', 'state_share', 'municipality_share', 'population'],\n",
       "      dtype='object')"
      ]
     },
     "execution_count": 26,
     "metadata": {},
     "output_type": "execute_result"
    }
   ],
   "source": [
    "# Your code here\n",
    "df.columns = [col.replace(\" \", \"_\").lower() for col in df.columns]\n",
    "df.columns"
   ]
  },
  {
   "cell_type": "code",
   "execution_count": 27,
   "metadata": {},
   "outputs": [
    {
     "data": {
      "text/html": [
       "<div>\n",
       "<style scoped>\n",
       "    .dataframe tbody tr th:only-of-type {\n",
       "        vertical-align: middle;\n",
       "    }\n",
       "\n",
       "    .dataframe tbody tr th {\n",
       "        vertical-align: top;\n",
       "    }\n",
       "\n",
       "    .dataframe thead th {\n",
       "        text-align: right;\n",
       "    }\n",
       "</style>\n",
       "<table border=\"1\" class=\"dataframe\">\n",
       "  <thead>\n",
       "    <tr style=\"text-align: right;\">\n",
       "      <th></th>\n",
       "      <th>establishment_count</th>\n",
       "      <th>terminal_count</th>\n",
       "      <th>amount_played</th>\n",
       "      <th>amount_won</th>\n",
       "      <th>nti_tax</th>\n",
       "      <th>state_share</th>\n",
       "      <th>municipality_share</th>\n",
       "      <th>population</th>\n",
       "    </tr>\n",
       "    <tr>\n",
       "      <th>Municipality</th>\n",
       "      <th></th>\n",
       "      <th></th>\n",
       "      <th></th>\n",
       "      <th></th>\n",
       "      <th></th>\n",
       "      <th></th>\n",
       "      <th></th>\n",
       "      <th></th>\n",
       "    </tr>\n",
       "  </thead>\n",
       "  <tbody>\n",
       "    <tr>\n",
       "      <th>Abingdon</th>\n",
       "      <td>4</td>\n",
       "      <td>16</td>\n",
       "      <td>6492446.76</td>\n",
       "      <td>5968296.97</td>\n",
       "      <td>165040.02</td>\n",
       "      <td>138832.38</td>\n",
       "      <td>26207.64</td>\n",
       "      <td>3,452</td>\n",
       "    </tr>\n",
       "    <tr>\n",
       "      <th>Addieville</th>\n",
       "      <td>1</td>\n",
       "      <td>5</td>\n",
       "      <td>939917.34</td>\n",
       "      <td>860520.60</td>\n",
       "      <td>25020.09</td>\n",
       "      <td>21050.20</td>\n",
       "      <td>3969.89</td>\n",
       "      <td>344</td>\n",
       "    </tr>\n",
       "    <tr>\n",
       "      <th>Addison</th>\n",
       "      <td>23</td>\n",
       "      <td>111</td>\n",
       "      <td>88623932.26</td>\n",
       "      <td>80762581.15</td>\n",
       "      <td>2476573.63</td>\n",
       "      <td>2083474.53</td>\n",
       "      <td>393099.10</td>\n",
       "      <td>37,089</td>\n",
       "    </tr>\n",
       "    <tr>\n",
       "      <th>Albany</th>\n",
       "      <td>2</td>\n",
       "      <td>7</td>\n",
       "      <td>2030709.60</td>\n",
       "      <td>1855397.39</td>\n",
       "      <td>55473.53</td>\n",
       "      <td>46707.84</td>\n",
       "      <td>8765.69</td>\n",
       "      <td>979</td>\n",
       "    </tr>\n",
       "    <tr>\n",
       "      <th>Albers</th>\n",
       "      <td>1</td>\n",
       "      <td>4</td>\n",
       "      <td>1546280.29</td>\n",
       "      <td>1419896.70</td>\n",
       "      <td>39710.50</td>\n",
       "      <td>33391.29</td>\n",
       "      <td>6319.21</td>\n",
       "      <td>1,184</td>\n",
       "    </tr>\n",
       "  </tbody>\n",
       "</table>\n",
       "</div>"
      ],
      "text/plain": [
       "              establishment_count  terminal_count  amount_played   amount_won  \\\n",
       "Municipality                                                                    \n",
       "Abingdon                        4              16     6492446.76   5968296.97   \n",
       "Addieville                      1               5      939917.34    860520.60   \n",
       "Addison                        23             111    88623932.26  80762581.15   \n",
       "Albany                          2               7     2030709.60   1855397.39   \n",
       "Albers                          1               4     1546280.29   1419896.70   \n",
       "\n",
       "                 nti_tax  state_share  municipality_share population  \n",
       "Municipality                                                          \n",
       "Abingdon       165040.02    138832.38            26207.64      3,452  \n",
       "Addieville      25020.09     21050.20             3969.89        344  \n",
       "Addison       2476573.63   2083474.53           393099.10     37,089  \n",
       "Albany          55473.53     46707.84             8765.69        979  \n",
       "Albers          39710.50     33391.29             6319.21      1,184  "
      ]
     },
     "execution_count": 27,
     "metadata": {},
     "output_type": "execute_result"
    }
   ],
   "source": [
    "df.head()"
   ]
  },
  {
   "cell_type": "markdown",
   "metadata": {
    "ExecuteTime": {
     "end_time": "2020-05-17T00:31:27.767106Z",
     "start_time": "2020-05-17T00:31:27.740575Z"
    }
   },
   "source": [
    "<center><i><h1>So much cleaning</h1></i></center>\n",
    "\n",
    "\n",
    "![](https://media.giphy.com/media/3o7WIE14z2d66BJWJa/giphy.gif)\n",
    "\n",
    "--------\n",
    "\n",
    "# Task 13\n",
    "\n",
    "Ok Ok, we're almost done formatting our data.\n",
    "\n",
    "<u>In the cell below:</u> \n",
    "1. Print out the datatypes for each of our columns using the ```.info()``` method.\n"
   ]
  },
  {
   "cell_type": "code",
   "execution_count": 28,
   "metadata": {
    "ExecuteTime": {
     "end_time": "2021-05-26T18:17:19.762016Z",
     "start_time": "2021-05-26T18:17:19.750982Z"
    }
   },
   "outputs": [
    {
     "name": "stdout",
     "output_type": "stream",
     "text": [
      "<class 'pandas.core.frame.DataFrame'>\n",
      "Index: 835 entries, Abingdon to Zion\n",
      "Data columns (total 8 columns):\n",
      " #   Column               Non-Null Count  Dtype  \n",
      "---  ------               --------------  -----  \n",
      " 0   establishment_count  835 non-null    int64  \n",
      " 1   terminal_count       835 non-null    int64  \n",
      " 2   amount_played        835 non-null    float64\n",
      " 3   amount_won           835 non-null    float64\n",
      " 4   nti_tax              835 non-null    float64\n",
      " 5   state_share          835 non-null    float64\n",
      " 6   municipality_share   835 non-null    float64\n",
      " 7   population           835 non-null    object \n",
      "dtypes: float64(5), int64(2), object(1)\n",
      "memory usage: 58.7+ KB\n"
     ]
    }
   ],
   "source": [
    "# Your code here\n",
    "df.info()"
   ]
  },
  {
   "cell_type": "markdown",
   "metadata": {},
   "source": [
    "# Task 14"
   ]
  },
  {
   "cell_type": "markdown",
   "metadata": {},
   "source": [
    "Our ```population``` column contains commas which is causing the computer to interpret the column as a string.\n",
    "\n",
    "<u>In the cell below:</u>\n",
    "1. Remove the commas from the column using the ```.apply``` method\n",
    ">**If your confused:** Find the answer relating to ```.apply()``` in this [Stack Overflow](https://stackoverflow.com/questions/56947333/how-to-remove-commas-from-all-the-column-in-pandas-at-once/56947424#56947424?newreg=3c19aff3bd5146a19f7787afedc243a2) thread.\n",
    "2. Convert the column datatype to integer\n",
    "\n",
    "    - Bonus points if you can do steps 1 & 2 with 1️⃣ line of code! 😻"
   ]
  },
  {
   "cell_type": "code",
   "execution_count": 36,
   "metadata": {
    "ExecuteTime": {
     "end_time": "2021-05-26T18:17:42.753889Z",
     "start_time": "2021-05-26T18:17:42.750535Z"
    }
   },
   "outputs": [
    {
     "data": {
      "text/plain": [
       "Municipality\n",
       "Abingdon       3452\n",
       "Addieville      344\n",
       "Addison       37089\n",
       "Albany          979\n",
       "Albers         1184\n",
       "              ...  \n",
       "Wyoming        1365\n",
       "Yates City      739\n",
       "Yorkville     19145\n",
       "Zeigler        1836\n",
       "Zion          24047\n",
       "Name: population, Length: 835, dtype: int64"
      ]
     },
     "execution_count": 36,
     "metadata": {},
     "output_type": "execute_result"
    }
   ],
   "source": [
    "# Your code here\n",
    "df['population'] = df['population'].apply(lambda x: x.replace(\",\",\"\")).astype('int64')\n",
    "df['population']"
   ]
  },
  {
   "cell_type": "markdown",
   "metadata": {
    "ExecuteTime": {
     "end_time": "2020-05-17T00:51:29.636765Z",
     "start_time": "2020-05-17T00:51:29.423590Z"
    }
   },
   "source": [
    "# Cleaning Complete!\n",
    "\n",
    "<img src=\"https://media.giphy.com/media/hEZIaecxpR78I/giphy.gif\" width=400/>"
   ]
  },
  {
   "cell_type": "markdown",
   "metadata": {},
   "source": [
    "# Task 15"
   ]
  },
  {
   "cell_type": "markdown",
   "metadata": {},
   "source": [
    "#### Ok Ok! \n",
    "\n",
    "Let's create a column that shows the number of gambling terminals per capita!\n",
    "\n",
    "<u>In the cell below:</u>\n",
    "1. Create a new column called ```terminals_percapita``` by dividing ```terminal_count``` by ```population```"
   ]
  },
  {
   "cell_type": "code",
   "execution_count": 37,
   "metadata": {
    "ExecuteTime": {
     "end_time": "2021-05-26T18:18:37.662131Z",
     "start_time": "2021-05-26T18:18:37.653145Z"
    }
   },
   "outputs": [
    {
     "data": {
      "text/html": [
       "<div>\n",
       "<style scoped>\n",
       "    .dataframe tbody tr th:only-of-type {\n",
       "        vertical-align: middle;\n",
       "    }\n",
       "\n",
       "    .dataframe tbody tr th {\n",
       "        vertical-align: top;\n",
       "    }\n",
       "\n",
       "    .dataframe thead th {\n",
       "        text-align: right;\n",
       "    }\n",
       "</style>\n",
       "<table border=\"1\" class=\"dataframe\">\n",
       "  <thead>\n",
       "    <tr style=\"text-align: right;\">\n",
       "      <th></th>\n",
       "      <th>establishment_count</th>\n",
       "      <th>terminal_count</th>\n",
       "      <th>amount_played</th>\n",
       "      <th>amount_won</th>\n",
       "      <th>nti_tax</th>\n",
       "      <th>state_share</th>\n",
       "      <th>municipality_share</th>\n",
       "      <th>population</th>\n",
       "      <th>terminals_percapita</th>\n",
       "    </tr>\n",
       "    <tr>\n",
       "      <th>Municipality</th>\n",
       "      <th></th>\n",
       "      <th></th>\n",
       "      <th></th>\n",
       "      <th></th>\n",
       "      <th></th>\n",
       "      <th></th>\n",
       "      <th></th>\n",
       "      <th></th>\n",
       "      <th></th>\n",
       "    </tr>\n",
       "  </thead>\n",
       "  <tbody>\n",
       "    <tr>\n",
       "      <th>Abingdon</th>\n",
       "      <td>4</td>\n",
       "      <td>16</td>\n",
       "      <td>6492446.76</td>\n",
       "      <td>5968296.97</td>\n",
       "      <td>165040.02</td>\n",
       "      <td>138832.38</td>\n",
       "      <td>26207.64</td>\n",
       "      <td>3452</td>\n",
       "      <td>0.004635</td>\n",
       "    </tr>\n",
       "    <tr>\n",
       "      <th>Addieville</th>\n",
       "      <td>1</td>\n",
       "      <td>5</td>\n",
       "      <td>939917.34</td>\n",
       "      <td>860520.60</td>\n",
       "      <td>25020.09</td>\n",
       "      <td>21050.20</td>\n",
       "      <td>3969.89</td>\n",
       "      <td>344</td>\n",
       "      <td>0.014535</td>\n",
       "    </tr>\n",
       "    <tr>\n",
       "      <th>Addison</th>\n",
       "      <td>23</td>\n",
       "      <td>111</td>\n",
       "      <td>88623932.26</td>\n",
       "      <td>80762581.15</td>\n",
       "      <td>2476573.63</td>\n",
       "      <td>2083474.53</td>\n",
       "      <td>393099.10</td>\n",
       "      <td>37089</td>\n",
       "      <td>0.002993</td>\n",
       "    </tr>\n",
       "    <tr>\n",
       "      <th>Albany</th>\n",
       "      <td>2</td>\n",
       "      <td>7</td>\n",
       "      <td>2030709.60</td>\n",
       "      <td>1855397.39</td>\n",
       "      <td>55473.53</td>\n",
       "      <td>46707.84</td>\n",
       "      <td>8765.69</td>\n",
       "      <td>979</td>\n",
       "      <td>0.007150</td>\n",
       "    </tr>\n",
       "    <tr>\n",
       "      <th>Albers</th>\n",
       "      <td>1</td>\n",
       "      <td>4</td>\n",
       "      <td>1546280.29</td>\n",
       "      <td>1419896.70</td>\n",
       "      <td>39710.50</td>\n",
       "      <td>33391.29</td>\n",
       "      <td>6319.21</td>\n",
       "      <td>1184</td>\n",
       "      <td>0.003378</td>\n",
       "    </tr>\n",
       "  </tbody>\n",
       "</table>\n",
       "</div>"
      ],
      "text/plain": [
       "              establishment_count  terminal_count  amount_played   amount_won  \\\n",
       "Municipality                                                                    \n",
       "Abingdon                        4              16     6492446.76   5968296.97   \n",
       "Addieville                      1               5      939917.34    860520.60   \n",
       "Addison                        23             111    88623932.26  80762581.15   \n",
       "Albany                          2               7     2030709.60   1855397.39   \n",
       "Albers                          1               4     1546280.29   1419896.70   \n",
       "\n",
       "                 nti_tax  state_share  municipality_share  population  \\\n",
       "Municipality                                                            \n",
       "Abingdon       165040.02    138832.38            26207.64        3452   \n",
       "Addieville      25020.09     21050.20             3969.89         344   \n",
       "Addison       2476573.63   2083474.53           393099.10       37089   \n",
       "Albany          55473.53     46707.84             8765.69         979   \n",
       "Albers          39710.50     33391.29             6319.21        1184   \n",
       "\n",
       "              terminals_percapita  \n",
       "Municipality                       \n",
       "Abingdon                 0.004635  \n",
       "Addieville               0.014535  \n",
       "Addison                  0.002993  \n",
       "Albany                   0.007150  \n",
       "Albers                   0.003378  "
      ]
     },
     "execution_count": 37,
     "metadata": {},
     "output_type": "execute_result"
    }
   ],
   "source": [
    "# Your code here\n",
    "df['terminals_percapita'] = df['terminal_count'] / df['population']\n",
    "df.head()"
   ]
  },
  {
   "cell_type": "markdown",
   "metadata": {},
   "source": [
    "# Task 16"
   ]
  },
  {
   "cell_type": "markdown",
   "metadata": {},
   "source": [
    "Now let's identify which communities have the highest number of gambling devices per capita. \n",
    "\n",
    "\n",
    "<u>In the cell(s) below:</u>\n",
    "1. [Sort](https://pandas.pydata.org/pandas-docs/stable/reference/api/pandas.DataFrame.sort_values.html) the dataframe according to the ```terminals_percapita``` column.\n",
    "2. Identify the 10 communities with the highest number of gambling machines per capita.\n",
    "3. Save those 10 community names in a list called ```highest_machines_percapita```"
   ]
  },
  {
   "cell_type": "code",
   "execution_count": 47,
   "metadata": {
    "ExecuteTime": {
     "end_time": "2021-05-26T18:19:33.499149Z",
     "start_time": "2021-05-26T18:19:33.495262Z"
    }
   },
   "outputs": [],
   "source": [
    "# Your code here\n",
    "sort_df = df.sort_values(by=['terminals_percapita'], ascending = False)\n",
    "highest_machines_percapita = list(sort_df.index[0:10])"
   ]
  },
  {
   "cell_type": "markdown",
   "metadata": {},
   "source": [
    "Run the cell below to see if you identified the correct Municipalities!"
   ]
  },
  {
   "cell_type": "code",
   "execution_count": 48,
   "metadata": {
    "ExecuteTime": {
     "end_time": "2021-05-26T18:19:43.041618Z",
     "start_time": "2021-05-26T18:19:43.038227Z"
    }
   },
   "outputs": [
    {
     "data": {
      "text/markdown": [
       "✅ **Hey, you did it.  Good job.**"
      ],
      "text/plain": [
       "<IPython.core.display.Markdown object>"
      ]
     },
     "metadata": {},
     "output_type": "display_data"
    }
   ],
   "source": [
    "testing.run_test(highest_machines_percapita, 'highest_machines_percapita')"
   ]
  },
  {
   "cell_type": "markdown",
   "metadata": {},
   "source": [
    "# Task 17"
   ]
  },
  {
   "cell_type": "markdown",
   "metadata": {},
   "source": [
    "**Next,** let's figure out how much money players lost for each municipality.\n",
    "\n",
    "<u>In the cell below:</u>\n",
    "1. Create a new column called ```amount_lost``` that is the difference between the ```amount_played``` and ```amount_won``` columns"
   ]
  },
  {
   "cell_type": "code",
   "execution_count": 49,
   "metadata": {
    "ExecuteTime": {
     "end_time": "2021-05-26T18:20:02.807771Z",
     "start_time": "2021-05-26T18:20:02.804403Z"
    }
   },
   "outputs": [],
   "source": [
    "# Your code here\n",
    "df['amount_lost'] = df['amount_played'] - df['amount_won']"
   ]
  },
  {
   "cell_type": "markdown",
   "metadata": {},
   "source": [
    "# Task 18"
   ]
  },
  {
   "cell_type": "markdown",
   "metadata": {},
   "source": [
    "<u>In the cell below:</u>\n",
    "1. Save the mean of the ```amount_loss``` column as the variable ```average_loss```."
   ]
  },
  {
   "cell_type": "code",
   "execution_count": 51,
   "metadata": {
    "ExecuteTime": {
     "end_time": "2021-05-26T18:20:46.205965Z",
     "start_time": "2021-05-26T18:20:46.203479Z"
    }
   },
   "outputs": [
    {
     "data": {
      "text/plain": [
       "1816880.0516766468"
      ]
     },
     "execution_count": 51,
     "metadata": {},
     "output_type": "execute_result"
    }
   ],
   "source": [
    "# Your code here\n",
    "average_loss = df['amount_lost'].mean()\n",
    "average_loss"
   ]
  },
  {
   "cell_type": "markdown",
   "metadata": {},
   "source": [
    "# Task 19"
   ]
  },
  {
   "cell_type": "markdown",
   "metadata": {},
   "source": [
    "Let's zoom in on this new loss data. \n",
    "\n",
    "<u>In the cell below:</u>\n",
    "1. Create a new column called ```loss_percapita``` that is the division of the ```amount_lost``` and ```population```"
   ]
  },
  {
   "cell_type": "code",
   "execution_count": 52,
   "metadata": {
    "ExecuteTime": {
     "end_time": "2021-05-26T18:24:34.449247Z",
     "start_time": "2021-05-26T18:24:34.445959Z"
    }
   },
   "outputs": [],
   "source": [
    "# Your code here\n",
    "df['loss_percapita'] = df['amount_lost'] / df['population']"
   ]
  },
  {
   "cell_type": "markdown",
   "metadata": {},
   "source": [
    "# Task 20"
   ]
  },
  {
   "cell_type": "markdown",
   "metadata": {},
   "source": [
    "<u>In the cell below</u>\n",
    "1. Sort the dataframe by ```loss_percapita``` and save the 10 communities with the highest loss per capita to a list called ```highest_loss_percapita```"
   ]
  },
  {
   "cell_type": "code",
   "execution_count": 53,
   "metadata": {
    "ExecuteTime": {
     "end_time": "2021-05-26T18:31:57.099494Z",
     "start_time": "2021-05-26T18:31:57.095838Z"
    }
   },
   "outputs": [],
   "source": [
    "# Your code here\n",
    "sort_df = df.sort_values(by=['loss_percapita'], ascending = False)\n",
    "highest_loss_percapita = list(sort_df.index[0:10])"
   ]
  },
  {
   "cell_type": "markdown",
   "metadata": {
    "ExecuteTime": {
     "end_time": "2020-05-17T01:55:55.877308Z",
     "start_time": "2020-05-17T01:55:55.873469Z"
    }
   },
   "source": [
    "Run the cell below to see if you idenitified the correct municipalities!"
   ]
  },
  {
   "cell_type": "code",
   "execution_count": 55,
   "metadata": {
    "ExecuteTime": {
     "end_time": "2021-05-26T18:31:58.116500Z",
     "start_time": "2021-05-26T18:31:58.112188Z"
    }
   },
   "outputs": [
    {
     "data": {
      "text/markdown": [
       "✅ **Hey, you did it.  Good job.**"
      ],
      "text/plain": [
       "<IPython.core.display.Markdown object>"
      ]
     },
     "metadata": {},
     "output_type": "display_data"
    }
   ],
   "source": [
    "testing.run_test(highest_loss_percapita, 'highest_loss_percapita')"
   ]
  },
  {
   "cell_type": "markdown",
   "metadata": {},
   "source": [
    "# Task 21"
   ]
  },
  {
   "cell_type": "markdown",
   "metadata": {},
   "source": [
    "Let's see how many rural vs urban communities are in our dataset. \n",
    "\n",
    "The [Census Bureau classifies communities](https://www2.census.gov/geo/pdfs/reference/GARM/Ch12GARM.pdf)\n",
    "as either \n",
    "1. Urban - Population that is greater than or equal to 50,000\n",
    "2. Urban Cluster - Population that is greater than or equal to 2,500 and less than 50,000\n",
    "3. Rural - Population less than 2,500\n",
    "\n",
    "In the cell below:\n",
    "- Using the `'population'` column create a new column called `'classification'` that contains the word `'rural'`, `'urban_cluster'`, or `'urban'` based on the municipality's population."
   ]
  },
  {
   "cell_type": "code",
   "execution_count": 56,
   "metadata": {
    "ExecuteTime": {
     "end_time": "2021-05-26T19:12:34.674735Z",
     "start_time": "2021-05-26T19:12:34.672720Z"
    }
   },
   "outputs": [
    {
     "data": {
      "text/html": [
       "<div>\n",
       "<style scoped>\n",
       "    .dataframe tbody tr th:only-of-type {\n",
       "        vertical-align: middle;\n",
       "    }\n",
       "\n",
       "    .dataframe tbody tr th {\n",
       "        vertical-align: top;\n",
       "    }\n",
       "\n",
       "    .dataframe thead th {\n",
       "        text-align: right;\n",
       "    }\n",
       "</style>\n",
       "<table border=\"1\" class=\"dataframe\">\n",
       "  <thead>\n",
       "    <tr style=\"text-align: right;\">\n",
       "      <th></th>\n",
       "      <th>establishment_count</th>\n",
       "      <th>terminal_count</th>\n",
       "      <th>amount_played</th>\n",
       "      <th>amount_won</th>\n",
       "      <th>nti_tax</th>\n",
       "      <th>state_share</th>\n",
       "      <th>municipality_share</th>\n",
       "      <th>population</th>\n",
       "      <th>terminals_percapita</th>\n",
       "      <th>amount_lost</th>\n",
       "      <th>loss_percapita</th>\n",
       "      <th>classification</th>\n",
       "    </tr>\n",
       "    <tr>\n",
       "      <th>Municipality</th>\n",
       "      <th></th>\n",
       "      <th></th>\n",
       "      <th></th>\n",
       "      <th></th>\n",
       "      <th></th>\n",
       "      <th></th>\n",
       "      <th></th>\n",
       "      <th></th>\n",
       "      <th></th>\n",
       "      <th></th>\n",
       "      <th></th>\n",
       "      <th></th>\n",
       "    </tr>\n",
       "  </thead>\n",
       "  <tbody>\n",
       "    <tr>\n",
       "      <th>Abingdon</th>\n",
       "      <td>4</td>\n",
       "      <td>16</td>\n",
       "      <td>6492446.76</td>\n",
       "      <td>5968296.97</td>\n",
       "      <td>165040.02</td>\n",
       "      <td>138832.38</td>\n",
       "      <td>26207.64</td>\n",
       "      <td>3452</td>\n",
       "      <td>0.004635</td>\n",
       "      <td>524149.79</td>\n",
       "      <td>151.839452</td>\n",
       "      <td>urban_cluster</td>\n",
       "    </tr>\n",
       "    <tr>\n",
       "      <th>Addieville</th>\n",
       "      <td>1</td>\n",
       "      <td>5</td>\n",
       "      <td>939917.34</td>\n",
       "      <td>860520.60</td>\n",
       "      <td>25020.09</td>\n",
       "      <td>21050.20</td>\n",
       "      <td>3969.89</td>\n",
       "      <td>344</td>\n",
       "      <td>0.014535</td>\n",
       "      <td>79396.74</td>\n",
       "      <td>230.804477</td>\n",
       "      <td>rural</td>\n",
       "    </tr>\n",
       "    <tr>\n",
       "      <th>Addison</th>\n",
       "      <td>23</td>\n",
       "      <td>111</td>\n",
       "      <td>88623932.26</td>\n",
       "      <td>80762581.15</td>\n",
       "      <td>2476573.63</td>\n",
       "      <td>2083474.53</td>\n",
       "      <td>393099.10</td>\n",
       "      <td>37089</td>\n",
       "      <td>0.002993</td>\n",
       "      <td>7861351.11</td>\n",
       "      <td>211.959101</td>\n",
       "      <td>urban_cluster</td>\n",
       "    </tr>\n",
       "    <tr>\n",
       "      <th>Albany</th>\n",
       "      <td>2</td>\n",
       "      <td>7</td>\n",
       "      <td>2030709.60</td>\n",
       "      <td>1855397.39</td>\n",
       "      <td>55473.53</td>\n",
       "      <td>46707.84</td>\n",
       "      <td>8765.69</td>\n",
       "      <td>979</td>\n",
       "      <td>0.007150</td>\n",
       "      <td>175312.21</td>\n",
       "      <td>179.072737</td>\n",
       "      <td>rural</td>\n",
       "    </tr>\n",
       "    <tr>\n",
       "      <th>Albers</th>\n",
       "      <td>1</td>\n",
       "      <td>4</td>\n",
       "      <td>1546280.29</td>\n",
       "      <td>1419896.70</td>\n",
       "      <td>39710.50</td>\n",
       "      <td>33391.29</td>\n",
       "      <td>6319.21</td>\n",
       "      <td>1184</td>\n",
       "      <td>0.003378</td>\n",
       "      <td>126383.59</td>\n",
       "      <td>106.742897</td>\n",
       "      <td>rural</td>\n",
       "    </tr>\n",
       "  </tbody>\n",
       "</table>\n",
       "</div>"
      ],
      "text/plain": [
       "              establishment_count  terminal_count  amount_played   amount_won  \\\n",
       "Municipality                                                                    \n",
       "Abingdon                        4              16     6492446.76   5968296.97   \n",
       "Addieville                      1               5      939917.34    860520.60   \n",
       "Addison                        23             111    88623932.26  80762581.15   \n",
       "Albany                          2               7     2030709.60   1855397.39   \n",
       "Albers                          1               4     1546280.29   1419896.70   \n",
       "\n",
       "                 nti_tax  state_share  municipality_share  population  \\\n",
       "Municipality                                                            \n",
       "Abingdon       165040.02    138832.38            26207.64        3452   \n",
       "Addieville      25020.09     21050.20             3969.89         344   \n",
       "Addison       2476573.63   2083474.53           393099.10       37089   \n",
       "Albany          55473.53     46707.84             8765.69         979   \n",
       "Albers          39710.50     33391.29             6319.21        1184   \n",
       "\n",
       "              terminals_percapita  amount_lost  loss_percapita classification  \n",
       "Municipality                                                                   \n",
       "Abingdon                 0.004635    524149.79      151.839452  urban_cluster  \n",
       "Addieville               0.014535     79396.74      230.804477          rural  \n",
       "Addison                  0.002993   7861351.11      211.959101  urban_cluster  \n",
       "Albany                   0.007150    175312.21      179.072737          rural  \n",
       "Albers                   0.003378    126383.59      106.742897          rural  "
      ]
     },
     "execution_count": 56,
     "metadata": {},
     "output_type": "execute_result"
    }
   ],
   "source": [
    "# Your code here\n",
    "df['classification'] = df['population'].apply(lambda x: 'urban' if x > 50000 else ('urban_cluster' if x > 2500 else 'rural'))\n",
    "df.head()"
   ]
  },
  {
   "cell_type": "markdown",
   "metadata": {},
   "source": [
    "# Task 22"
   ]
  },
  {
   "cell_type": "markdown",
   "metadata": {},
   "source": [
    "Using the `'classification'` column, find the name of the classification that occurs most frequently in this dataset.\n",
    "\n",
    "Assign `most_frequent` to the name of the classification (a string) and `frequency` to the number of times that classification appears (an integer).\n",
    "\n",
    "If you're getting stuck, check out [this method](https://pandas.pydata.org/pandas-docs/stable/reference/api/pandas.Series.value_counts.html). Your answer can be \"hard-coded\" (i.e. just typed in surrounded by \") or you can find it programmatically."
   ]
  },
  {
   "cell_type": "code",
   "execution_count": 73,
   "metadata": {},
   "outputs": [
    {
     "name": "stdout",
     "output_type": "stream",
     "text": [
      "rural\n",
      "462\n"
     ]
    }
   ],
   "source": [
    "# Your code here\n",
    "\n",
    "most_frequent = list(dict(df['classification'].value_counts()))[0]\n",
    "frequency = list(df['classification'].value_counts())[0]\n",
    "print(most_frequent)\n",
    "print(frequency)"
   ]
  },
  {
   "cell_type": "markdown",
   "metadata": {
    "ExecuteTime": {
     "end_time": "2021-05-26T19:50:25.427689Z",
     "start_time": "2021-05-26T19:50:25.424594Z"
    }
   },
   "source": [
    "Run the cell below to test your work."
   ]
  },
  {
   "cell_type": "code",
   "execution_count": 74,
   "metadata": {
    "ExecuteTime": {
     "end_time": "2021-05-26T19:50:10.008285Z",
     "start_time": "2021-05-26T19:50:10.002984Z"
    }
   },
   "outputs": [
    {
     "data": {
      "text/markdown": [
       "✅ **Hey, you did it.  Good job.**"
      ],
      "text/plain": [
       "<IPython.core.display.Markdown object>"
      ]
     },
     "metadata": {},
     "output_type": "display_data"
    },
    {
     "data": {
      "text/markdown": [
       "✅ **Hey, you did it.  Good job.**"
      ],
      "text/plain": [
       "<IPython.core.display.Markdown object>"
      ]
     },
     "metadata": {},
     "output_type": "display_data"
    }
   ],
   "source": [
    "testing.run_test(most_frequent, 'most_frequent')\n",
    "testing.run_test(frequency, 'frequency')"
   ]
  },
  {
   "cell_type": "code",
   "execution_count": null,
   "metadata": {},
   "outputs": [],
   "source": []
  }
 ],
 "metadata": {
  "hide_input": false,
  "kernelspec": {
   "display_name": "Python 3",
   "language": "python",
   "name": "python3"
  },
  "language_info": {
   "codemirror_mode": {
    "name": "ipython",
    "version": 3
   },
   "file_extension": ".py",
   "mimetype": "text/x-python",
   "name": "python",
   "nbconvert_exporter": "python",
   "pygments_lexer": "ipython3",
   "version": "3.8.5"
  },
  "toc": {
   "base_numbering": 1,
   "nav_menu": {},
   "number_sections": false,
   "sideBar": true,
   "skip_h1_title": true,
   "title_cell": "Table of Contents",
   "title_sidebar": "Contents",
   "toc_cell": false,
   "toc_position": {},
   "toc_section_display": true,
   "toc_window_display": false
  },
  "varInspector": {
   "cols": {
    "lenName": 16,
    "lenType": 16,
    "lenVar": 40
   },
   "kernels_config": {
    "python": {
     "delete_cmd_postfix": "",
     "delete_cmd_prefix": "del ",
     "library": "var_list.py",
     "varRefreshCmd": "print(var_dic_list())"
    },
    "r": {
     "delete_cmd_postfix": ") ",
     "delete_cmd_prefix": "rm(",
     "library": "var_list.r",
     "varRefreshCmd": "cat(var_dic_list()) "
    }
   },
   "types_to_exclude": [
    "module",
    "function",
    "builtin_function_or_method",
    "instance",
    "_Feature"
   ],
   "window_display": false
  }
 },
 "nbformat": 4,
 "nbformat_minor": 4
}
